{
 "cells": [
  {
   "cell_type": "markdown",
   "metadata": {},
   "source": [
    "# Interactive Tutorial for the HWO High-Resolution Imager (HRI) "
   ]
  },
  {
   "cell_type": "markdown",
   "metadata": {},
   "source": [
    "This notebook shows how to use the basic capabilities of [SYOTools](https://github.com/tumlinson/luvoir_simtools) for ETCs. It uses Bokeh & astropy to visualize exposure time calculators (ETCs), as well as other science cases, as a function of various observatory parameters. While SYOTools can be used independently of a particular observatory or science case, it has been primarily written to facilitate the design of the [Habitable Worlds Observatory](https://www.habitableworldsobservatory.org).\n",
    "\n",
    "SYOTools is divided into two main parts, contained in the `syotools.models` and `syotools.interface` subpackages. This Jupyter Notebook is intended as a walkthrough for using `syotools.models` to perform calculations. A future tutorial on using `syotools.interface` to design a web tool is in preparation; however, it will not be a similar Jupyter Notebook, as the interface framework is highly integrated with Bokeh Server. Instead, we will use Bokeh's `output_notebook` function, along with IPython interactors (as described [here](https://github.com/bokeh/bokeh/blob/0.12.13/examples/howto/notebook_comms/Jupyter%20Interactors.ipynb)), to visualize the example calculations below. \n",
    "\n"
   ]
  },
  {
   "cell_type": "code",
   "execution_count": null,
   "metadata": {},
   "outputs": [],
   "source": [
    "#Import Bokeh interface tools\n",
    "from ipywidgets import interact\n",
    "from bokeh.io import push_notebook, show, output_notebook\n",
    "from bokeh.plotting import figure\n",
    "from bokeh.layouts import column\n",
    "output_notebook()\n",
    "\n",
    "#Import numpy, syotools, and astropy.units\n",
    "### NOTE: you will likely receive some pysynphot warnings when executing these imports, these are expected\n",
    "import numpy as np\n",
    "from syotools import cdbs #make sure that pysynphot can find its reference files!\n",
    "from syotools.models import Telescope, Camera, Spectrograph #models for the observatory and instruments\n",
    "from syotools.utils.jsonunit import str_jsunit #for printing JsonUnit and JsonSpectrum wrappers in a readable way\n",
    "from syotools.utils import pre_encode, pre_decode\n",
    "from syotools.spectra import SpectralLibrary\n",
    "import astropy.units as u"
   ]
  },
  {
   "cell_type": "markdown",
   "metadata": {},
   "source": [
    "## Example 1: HRI ETC"
   ]
  },
  {
   "cell_type": "markdown",
   "metadata": {},
   "source": [
    "*\"The High Resolution Imager (HRI) instrument is the primary astronomical imaging instrument for observations in the near UV through the near IR. The hri design provides a 2 x 3 arcminute field-of-view, taking full advantage of the angular resolution provided by the telescope, and consists of two channels - an ultraviolet-visible (UVIS) channel covering 200 nm - 950 nm and a near-infrared (NIR) channel covering the range 800 nm - 2200 nm. The respective focal plane detector arrays provide Nyquist sampled images at 400 nm (2.73 mas/pixel) for UVIS imaging and at 1200 nm (8.20 mas/pixel) for NIR imaging.\"* (adapted from LUVOIR STDT study) "
   ]
  },
  {
   "cell_type": "markdown",
   "metadata": {},
   "source": [
    "In this example, we will create a exposure time calculator for HRI, so that we can calculate the signal-to-noise ratio (SNR) for several possible template spectra. This approximates some of the functionality of [the official HRI ETC tool](http://hwo.stsci.edu/camera_etc)."
   ]
  },
  {
   "cell_type": "code",
   "execution_count": null,
   "metadata": {},
   "outputs": [],
   "source": [
    "#Instatiate the observatory using syotools.models.Telescope\n",
    "#This loads the default Telescope values, which are already based on the LUVOIR design\n",
    "luvoir_ex1 = Telescope()\n",
    "luvoir_ex1.set_from_json('EAC1') "
   ]
  },
  {
   "cell_type": "code",
   "execution_count": null,
   "metadata": {},
   "outputs": [],
   "source": [
    "#Instantiate the instrument, using syotools.models.Camera, and link it with the telescope\n",
    "#This loads the default Camera values, which are already based on the LUVOIR-HRI design\n",
    "hri = Camera()\n",
    "luvoir_ex1.add_camera(hri)"
   ]
  },
  {
   "cell_type": "code",
   "execution_count": null,
   "metadata": {},
   "outputs": [],
   "source": [
    "#Create a new photometric exposure for the camera\n",
    "hri_exposure = hri.create_exposure()\n",
    "\n",
    "#Print the available wave bands\n",
    "pivotwave, bandpass = hri.recover('pivotwave', 'derived_bandpass')\n",
    "\n",
    "print(\"HRI wave bands:\") \n",
    "for band, pwave, bpass in zip(hri.bandnames, pivotwave, bandpass):\n",
    "    print(u\"   {:3s} - {:5.2f} ± {:5.2f}\".format(band, pwave, bpass)) \n",
    "\n",
    "#Print the default template\n",
    "default_hri_template = SpectralLibrary[hri_exposure.sed_id]\n",
    "print(\"Current SED template: {}\".format(default_hri_template)) \n",
    "\n",
    "hri_template_codes = ['fab', 'o5v', 'b5v', 'g2v', 'm2v', 'orion', 'elliptical', 'sbc', 'starburst', 'ngc1068']\n",
    "available_hri_templates = [SpectralLibrary[tc] for tc in hri_template_codes]"
   ]
  },
  {
   "cell_type": "code",
   "execution_count": null,
   "metadata": {},
   "outputs": [],
   "source": [
    "#Create the Bokeh SED figure\n",
    "hri_sed = hri_exposure.recover('sed')\n",
    "hri_sed.convert('abmag')\n",
    "hri_sed.convert('nm')\n",
    "hri_sed_fig = figure(height=300, width=600, title=\"SED\", x_axis_label=\"Wavelength [nm]\",\n",
    "                 y_axis_label=\"AB Mag\", y_range=(35, 21), x_range=(120, 2300))\n",
    "hri_sed_line = hri_sed_fig.line(hri_sed.wave, hri_sed.flux, color='orange', line_width=3)"
   ]
  },
  {
   "cell_type": "code",
   "execution_count": null,
   "metadata": {},
   "outputs": [],
   "source": [
    "#Create the Bokeh SNR figure\n",
    "hri_snr = hri_exposure.recover('snr')\n",
    "hri_snr_fig = figure(height=300, width=600, title=\"SNR\", x_axis_label=\"Wavelength [nm]\", \n",
    "                 y_axis_label=\"SNR\", y_range=(0, 20), x_range=(120, 2300))\n",
    "uv_hri_snr = hri_snr_fig.line(pivotwave[:2].value, hri_snr[:2].value, color='orange', line_width=3)\n",
    "vis_hri_snr = hri_snr_fig.line(pivotwave[2:-3].value, hri_snr[2:-3].value, color='blue', line_width=3)\n",
    "ir_hri_snr = hri_snr_fig.line(pivotwave[-3:].value, hri_snr[-3:].value, color='red', line_width=3)"
   ]
  },
  {
   "cell_type": "code",
   "execution_count": null,
   "metadata": {},
   "outputs": [],
   "source": [
    "#Define the update callback function for interactive inputs\n",
    "def hri_update(template=default_hri_template, aperture=8., exptime=1., v_magnitude=30.):\n",
    "    #find the correct template code\n",
    "    sed_id = hri_template_codes[available_hri_templates.index(template)]\n",
    "    \n",
    "    #turn off calculations until everything is updated\n",
    "    hri_exposure.disable()\n",
    "    \n",
    "    #update all of the telescope & exposure parameters\n",
    "    hri_exposure.exptime = exptime * u.h\n",
    "    hri_exposure.sed_id = sed_id\n",
    "    luvoir_ex1.aperture = aperture * u.m\n",
    "    hri_exposure.renorm_sed(v_magnitude * u.ABmag)\n",
    "    \n",
    "    #turn calculations back on and recalculate based on updated parameters\n",
    "    hri_exposure.enable()\n",
    "    \n",
    "    #recover the recalculated values, and make sure everything is in the right units\n",
    "    hri_sed, hri_snr = hri_exposure.recover('sed', 'snr')\n",
    "    hri_sed.convert('nm')\n",
    "    hri_sed.convert('abmag')\n",
    "    \n",
    "    #sanitize the sed fluxes because some of the pysynphot spectra don't play nice\n",
    "    hri_flux = hri_sed.flux\n",
    "    hri_flux[~np.isfinite(hri_flux)] = v_magnitude\n",
    "    \n",
    "    #update the SED figure\n",
    "    hri_sed_fig.y_range.start = hri_flux.max() + 5.\n",
    "    hri_sed_fig.y_range.end = hri_flux.min() - 5.\n",
    "    hri_sed_line.data_source.data = {'x': hri_sed.wave, 'y': hri_flux}\n",
    "    \n",
    "    #update the SNR figure\n",
    "    hri_snr_fig.y_range.start = 0.\n",
    "    hri_snr_fig.y_range.end = max(1.3 * hri_snr.value.max(), 5.)\n",
    "    uv_hri_snr.data_source.data['y'] = hri_snr.value[:2]\n",
    "    vis_hri_snr.data_source.data['y'] = hri_snr.value[2:-3]\n",
    "    ir_hri_snr.data_source.data['y'] = hri_snr.value[-3:]\n",
    "    \n",
    "    #update the plots\n",
    "    push_notebook()"
   ]
  },
  {
   "cell_type": "code",
   "execution_count": null,
   "metadata": {},
   "outputs": [],
   "source": [
    "# Show the plots\n",
    "# depending on your jupyter config you may need to shift+enter this cell \n",
    "# after changing the sliders below to see an updated result plot\n",
    "hri_handle = show(column(hri_sed_fig, hri_snr_fig), notebook_handle=True)"
   ]
  },
  {
   "cell_type": "code",
   "execution_count": null,
   "metadata": {},
   "outputs": [],
   "source": [
    "#Create the interactive inputs\n",
    "#shift+enter here will reset to defaults. \n",
    "hri_inputs = interact(hri_update, template=available_hri_templates, aperture=(2.0, 12.0), exptime=(0.1, 10.0, 0.1), \n",
    "         v_magnitude=(20.0, 35.0, 0.1))"
   ]
  },
  {
   "cell_type": "code",
   "execution_count": null,
   "metadata": {},
   "outputs": [],
   "source": []
  },
  {
   "cell_type": "code",
   "execution_count": null,
   "metadata": {},
   "outputs": [],
   "source": []
  },
  {
   "cell_type": "code",
   "execution_count": null,
   "metadata": {},
   "outputs": [],
   "source": []
  },
  {
   "cell_type": "code",
   "execution_count": null,
   "metadata": {},
   "outputs": [],
   "source": []
  },
  {
   "cell_type": "code",
   "execution_count": null,
   "metadata": {},
   "outputs": [],
   "source": []
  },
  {
   "cell_type": "code",
   "execution_count": null,
   "metadata": {},
   "outputs": [],
   "source": []
  }
 ],
 "metadata": {
  "kernelspec": {
   "display_name": "Python 3 (ipykernel)",
   "language": "python",
   "name": "python3"
  },
  "language_info": {
   "codemirror_mode": {
    "name": "ipython",
    "version": 3
   },
   "file_extension": ".py",
   "mimetype": "text/x-python",
   "name": "python",
   "nbconvert_exporter": "python",
   "pygments_lexer": "ipython3",
   "version": "3.9.19"
  }
 },
 "nbformat": 4,
 "nbformat_minor": 4
}
