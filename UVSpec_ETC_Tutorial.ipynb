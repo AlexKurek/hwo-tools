{
 "cells": [
  {
   "cell_type": "markdown",
   "metadata": {},
   "source": [
    "# Interactive Tutorial for the HWO UV Instrument (UVI) "
   ]
  },
  {
   "cell_type": "markdown",
   "metadata": {},
   "source": [
    "[SYOTools](https://github.com/spacetelescope/hwo-tools) is a framework to enable users to create [Science Yield Optimization web tools](http://hwo.stsci.edu) for observatory design. It uses Bokeh & astropy to visualize exposure time calculators (ETCs), as well as other science cases, as a function of various observatory parameters. While SYOTools can be used independently of a particular observatory or science case, it has been primarily written to facilitate the design of [HWO](https://www.habitableworldsobservatory.org).\n",
    "\n",
    "SYOTools is divided into two main parts, contained in the `syotools.models` and `syotools.interface` subpackages. This Jupyter Notebook is intended as a walkthrough for using `syotools.models` to perform calculations. A future tutorial on using `syotools.interface` to design a web tool is in preparation; however, it will not be a similar Jupyter Notebook, as the interface framework is highly integrated with Bokeh Server. Instead, we will use Bokeh's `output_notebook` function, along with IPython interactors (as described [here](https://github.com/bokeh/bokeh/blob/0.12.13/examples/howto/notebook_comms/Jupyter%20Interactors.ipynb)), to visualize the example calculations below. "
   ]
  },
  {
   "cell_type": "code",
   "execution_count": null,
   "metadata": {},
   "outputs": [],
   "source": [
    "#Import Bokeh interface tools\n",
    "from ipywidgets import interact\n",
    "from bokeh.io import push_notebook, show, output_notebook\n",
    "from bokeh.plotting import figure\n",
    "from bokeh.layouts import column\n",
    "output_notebook()\n",
    "\n",
    "#Import numpy, syotools, and astropy.units\n",
    "### NOTE: you will likely receive some pysynphot warnings when executing these imports, these are expected\n",
    "import numpy as np\n",
    "from syotools import cdbs #make sure that pysynphot can find its reference files!\n",
    "from syotools.models import Telescope, Camera, Spectrograph #models for the observatory and instruments\n",
    "from syotools.utils.jsonunit import str_jsunit #for printing JsonUnit and JsonSpectrum wrappers in a readable way\n",
    "from syotools.utils import pre_encode, pre_decode\n",
    "from syotools.spectra import SpectralLibrary\n",
    "import astropy.units as u"
   ]
  },
  {
   "cell_type": "markdown",
   "metadata": {},
   "source": [
    "## Example 2: UVI ETC"
   ]
  },
  {
   "cell_type": "markdown",
   "metadata": {},
   "source": [
    "*\"The UV Instrument (HWO UVI) is a multi-object spectrograph covering far-ultraviolet (100 nm) through visible (850 nm) wavelengths. UVI is a highly multiplexed ultraviolet spectrograph, with medium and low-resolution multi-object imaging spectroscopy and FUV imaging modes. UVI can be considered as a successor to the Hubble Space Telescope Imaging Spectrograph (STIS) instrument, with two orders-of-magnitude higher efficiency, multi-object capability, and a wide-field multi-band imaging channel.\"* Adapted from the LUVOIR STDT study of LUMOS"
   ]
  },
  {
   "cell_type": "markdown",
   "metadata": {},
   "source": [
    "In this example, we will create a exposure time calculator for UVI, so that we can calculate the signal-to-noise ratio (SNR) for several possible template spectra. This approximates some of the functionality of [the official UVI ETC tool](http://hwo.stsci.edu/uvipec_etc)."
   ]
  },
  {
   "cell_type": "code",
   "execution_count": null,
   "metadata": {},
   "outputs": [],
   "source": [
    "#Again, instatiate the observatory using syotools.models.Telescope\n",
    "hwo_ex1 = Telescope()\n",
    "hwo_ex1.set_from_json('EAC1') "
   ]
  },
  {
   "cell_type": "code",
   "execution_count": null,
   "metadata": {},
   "outputs": [],
   "source": [
    "#Instantiate the instrument, using syotools.models.Spectrograph, and link it with the telescope\n",
    "#This loads the default Spectrograph values, which are already based on the HWO-UVI design\n",
    "uvi = Spectrograph()\n",
    "hwo_ex1.add_spectrograph(uvi)"
   ]
  },
  {
   "cell_type": "code",
   "execution_count": null,
   "metadata": {},
   "outputs": [],
   "source": [
    "#Create a new spectrographic exposure for the camera\n",
    "uvi_exposure = uvi.create_exposure()"
   ]
  },
  {
   "cell_type": "code",
   "execution_count": null,
   "metadata": {},
   "outputs": [],
   "source": [
    "#Create a new spectrographic exposure for the camera\n",
    "uvi_exposure = uvi.create_exposure()\n",
    "\n",
    "uvi_exposure.sed_id = \"qso\"\n",
    "uvi_exposure.renorm_sed(21.0 * u.ABmag, bandpass='galex,fuv')\n",
    "\n",
    "#Print the available grating modes\n",
    "available_uvi_modes = [uvi.descriptions[mode] for mode in uvi.modes]\n",
    "print(\"UVI grating modes:\") \n",
    "for mode in available_uvi_modes:\n",
    "    print(\"   \"+mode) \n",
    "\n",
    "#Print the default template & mode\n",
    "default_uvi_template = SpectralLibrary[uvi_exposure.sed_id]\n",
    "default_uvi_mode = uvi.descriptions[uvi.mode]\n",
    "print(\"Current SED template: {}\".format(default_uvi_template)) \n",
    "print(\"Current grating mode: {}\".format(default_uvi_mode)) \n",
    "\n",
    "uvi_template_codes = ['flam', 'qso', 's99', 'o5v', 'g2v', 'g191b2b', 'gd71', 'gd153', 'ctts', \n",
    "                        'mdwarf', 'orion', 'nodust', 'ebv6', 'hi1hei1', 'hi0hei1']\n",
    "available_uvi_templates = [SpectralLibrary[tc] for tc in uvi_template_codes]"
   ]
  },
  {
   "cell_type": "code",
   "execution_count": null,
   "metadata": {},
   "outputs": [],
   "source": [
    "#Create the Bokeh SED figure\n",
    "uvi_sed = uvi_exposure.recover('sed')\n",
    "uvi_sed.convert('flam')\n",
    "uvi_sed.convert('angstrom')\n",
    "uvi_bgflux = uvi.recover('bef').to(u.erg / u.s / u.cm**2 / u.pix).value\n",
    "uvi_bgwave = uvi.recover('wave').to(u.AA).value\n",
    "uvi_sed_fig = figure(height=300, width=600, title=\"SED\", x_axis_label=\"Wavelength [Angstrom]\",\n",
    "                 y_axis_label=\"Flux [erg / s / cm2 / Ang]\", y_range=(0., 4.0e-16), x_range=(900, 4000))\n",
    "uvi_sed_line = uvi_sed_fig.line(uvi_sed.wave, uvi_sed.flux, color='firebrick', \n",
    "                                    line_width=3) #legend='Source Flux')\n",
    "uvi_bef_line = uvi_sed_fig.line(uvi_bgwave, uvi_bgflux, color='darksalmon', \n",
    "                                    line_width=3) #  legend='Background')"
   ]
  },
  {
   "cell_type": "code",
   "execution_count": null,
   "metadata": {},
   "outputs": [],
   "source": [
    "#Create the Bokeh SNR figure\n",
    "uvi_snr = uvi_exposure.recover('snr')\n",
    "uvi_snr_fig = figure(height=300, width=600, title=\"SNR\", x_axis_label=\"Wavelength [Angstrom]\", \n",
    "                 y_axis_label=\"S/N per resel\", y_range=(0.0, 40.0), x_range=(900, 4000))\n",
    "uvi_snr_line = uvi_snr_fig.line(uvi_bgwave, uvi_snr, color='orange', line_width=3)"
   ]
  },
  {
   "cell_type": "code",
   "execution_count": null,
   "metadata": {},
   "outputs": [],
   "source": [
    "#Define the update callback function for interactive inputs\n",
    "def uvi_update(template=default_uvi_template, aperture=15., exptime=1., \n",
    "                 v_magnitude=21., mode=default_uvi_mode):\n",
    "    \n",
    "    #find the correct template code & grating mode\n",
    "    sed_id = uvi_template_codes[available_uvi_templates.index(template)]\n",
    "    grating, = [m for m, d in uvi.descriptions.items() if d == mode]\n",
    "    \n",
    "    #turn off calculations until everything is updated\n",
    "    uvi_exposure.disable()\n",
    "    \n",
    "    #update all of the telescope, spectrograph, & exposure parameters\n",
    "    hwo_ex1.aperture = aperture * u.m\n",
    "    uvi.mode = grating\n",
    "    uvi_exposure.exptime = exptime * u.h\n",
    "    uvi_exposure.sed_id = sed_id\n",
    "    uvi_exposure.renorm_sed(v_magnitude * u.ABmag, bandpass='galex,fuv')\n",
    "    \n",
    "    #turn calculations back on and recalculate based on updated parameters\n",
    "    uvi_exposure.enable()\n",
    "    \n",
    "    #recover the recalculated values, and make sure everything is in the right units\n",
    "    uvi_sed, uvi_snr = uvi_exposure.recover('sed', 'snr')\n",
    "    uvi_sed.convert('flam')\n",
    "    uvi_sed.convert('angstrom')\n",
    "    uvi_bgflux = uvi.recover('bef').to(u.erg / u.s / u.cm**2 / u.pix).value\n",
    "    uvi_bgwave = uvi.recover('wave').to(u.AA).value\n",
    "    \n",
    "    #sanitize the fluxes and SNR because some of the spectra don't play nice\n",
    "    uvi_flux = uvi_sed.flux\n",
    "    uvi_flux[~np.isfinite(uvi_flux)] = 0.\n",
    "    uvi_bgflux[~np.isfinite(uvi_bgflux)] = 0.\n",
    "    uvi_snr[~np.isfinite(uvi_snr)] = 0.\n",
    "    \n",
    "    #update the SED figure\n",
    "    uvi_sed_fig.y_range.start = 0.\n",
    "    uvi_sed_fig.y_range.end = 1.5 * uvi_flux.max()\n",
    "    uvi_sed_line.data_source.data = {'x': uvi_sed.wave, 'y': uvi_flux}\n",
    "    uvi_bef_line.data_source.data = {'x': uvi_bgwave, 'y': uvi_bgflux}\n",
    "    \n",
    "    #update the SNR figure\n",
    "    uvi_snr_fig.y_range.start = 0.\n",
    "    uvi_snr_fig.y_range.end = 1.5 * uvi_snr.value.max()\n",
    "    uvi_snr_line.data_source.data = {'x': uvi_bgwave, 'y': uvi_snr.value}\n",
    "    \n",
    "    #update the plots\n",
    "    push_notebook()"
   ]
  },
  {
   "cell_type": "code",
   "execution_count": null,
   "metadata": {},
   "outputs": [],
   "source": [
    "#Show the plots\n",
    "# depending on your jupyter config you may need to shift+enter this cell \n",
    "# after changing the sliders in the cell below to see an updated result plot\n",
    "uvi_handle = show(column(uvi_sed_fig, uvi_snr_fig), notebook_handle=True)"
   ]
  },
  {
   "cell_type": "code",
   "execution_count": null,
   "metadata": {},
   "outputs": [],
   "source": [
    "#Create the interactive inputs\n",
    "#shift+enter here will reset to defaults. \n",
    "uvi_inputs = interact(uvi_update, template=available_uvi_templates, aperture=(2.0, 12.0), \n",
    "                        exptime=(0.1, 10.0, 0.1), v_magnitude=(15.0, 30.0, 0.1), mode=available_uvi_modes)"
   ]
  },
  {
   "cell_type": "code",
   "execution_count": null,
   "metadata": {},
   "outputs": [],
   "source": []
  },
  {
   "cell_type": "code",
   "execution_count": null,
   "metadata": {},
   "outputs": [],
   "source": []
  },
  {
   "cell_type": "code",
   "execution_count": null,
   "metadata": {},
   "outputs": [],
   "source": []
  },
  {
   "cell_type": "code",
   "execution_count": null,
   "metadata": {},
   "outputs": [],
   "source": []
  },
  {
   "cell_type": "code",
   "execution_count": null,
   "metadata": {},
   "outputs": [],
   "source": []
  }
 ],
 "metadata": {
  "kernelspec": {
   "display_name": "Python 3 (ipykernel)",
   "language": "python",
   "name": "python3"
  },
  "language_info": {
   "codemirror_mode": {
    "name": "ipython",
    "version": 3
   },
   "file_extension": ".py",
   "mimetype": "text/x-python",
   "name": "python",
   "nbconvert_exporter": "python",
   "pygments_lexer": "ipython3",
   "version": "3.9.19"
  }
 },
 "nbformat": 4,
 "nbformat_minor": 4
}
