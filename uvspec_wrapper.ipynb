{
 "cells": [
  {
   "cell_type": "markdown",
   "id": "de56048d-ae24-4da4-8eab-0f1b245f05ad",
   "metadata": {},
   "source": [
    "## Illustration of the simple wrapper for uvspec_etc "
   ]
  },
  {
   "cell_type": "markdown",
   "id": "480cbfc3-0122-4b28-8515-3918f2b80f80",
   "metadata": {},
   "source": [
    "First, import the wrapper function for obtaining UVI SNR from basic inputs "
   ]
  },
  {
   "cell_type": "code",
   "execution_count": null,
   "id": "cd5859f8",
   "metadata": {},
   "outputs": [],
   "source": [
    "from syotools.wrappers.uvspec import uvspec_snr, uvspec_exptime"
   ]
  },
  {
   "cell_type": "code",
   "execution_count": null,
   "id": "31a6236e-7956-433c-8ebf-4da2f992b99d",
   "metadata": {},
   "outputs": [],
   "source": [
    "help(uvspec_snr)"
   ]
  },
  {
   "cell_type": "code",
   "execution_count": null,
   "id": "3432b0e8",
   "metadata": {},
   "outputs": [],
   "source": [
    "wave120, snr120, uvi = uvspec_snr('EAC1', 'G120M', 'flat', 19, 3.) \n",
    "wave150, snr150, uvi = uvspec_snr('EAC1', 'G150M', 'flat', 19, 3.) \n",
    "wave180, snr180, uvi = uvspec_snr('EAC1', 'G180M', 'flat', 19, 3.) \n",
    "\n",
    "wave300, snr300, uvi = uvspec_snr('EAC1', 'G300M', 'flat', 19, 1.) "
   ]
  },
  {
   "cell_type": "code",
   "execution_count": null,
   "id": "89b69e34",
   "metadata": {},
   "outputs": [],
   "source": [
    "import matplotlib.pyplot as plt \n",
    "\n",
    "plt.plot(wave120, snr120, label='G120M')\n",
    "plt.plot(wave150, snr150, label='G150M') \n",
    "plt.plot(wave180, snr180, label='G180M') \n",
    "plt.plot(wave300, snr300, label='G300M') \n",
    "\n",
    "plt.legend() \n",
    "plt.xlabel('Wavelength [Angstrom]') \n",
    "plt.ylabel('SNR per pixel') "
   ]
  },
  {
   "cell_type": "code",
   "execution_count": null,
   "id": "470d2875-3ec6-4064-8ff6-c5c69c8dd188",
   "metadata": {},
   "outputs": [],
   "source": []
  },
  {
   "cell_type": "code",
   "execution_count": null,
   "id": "456eea44-1e72-4593-8eb0-9521d500541d",
   "metadata": {},
   "outputs": [],
   "source": []
  },
  {
   "cell_type": "code",
   "execution_count": null,
   "id": "27cf9f8d-affa-4c5f-8a81-503f6ada9d9c",
   "metadata": {},
   "outputs": [],
   "source": [
    "def uvspec_exptime(telescope, mode, template, fuvmag, snr_goal): \n",
    "    \n",
    "    from syotools.models import Telescope, Spectrograph\n",
    "    from syotools.utils.jsonunit import str_jsunit\n",
    "    from syotools.spectra import SpectralLibrary\n",
    "    import astropy.units as u\n",
    "\n",
    "    # create the basic objects \n",
    "    uvi, tel = Spectrograph(), Telescope() \n",
    "    tel.set_from_json(telescope)\n",
    "    tel.add_spectrograph(uvi)\n",
    "    uvi_exp = uvi.create_exposure()\n",
    "    uvi.mode = mode\n",
    "\n",
    "    uvi_exp.sed_id = template\n",
    "    uvi_exp.renorm_sed(fuvmag * u.ABmag, bandpass='galex,fuv')\n",
    "\n",
    "    #Print the current template & mode\n",
    "    print(\"Current SED template: {}\".format(SpectralLibrary[uvi_exp.sed_id])) \n",
    "    print(\"Current grating mode: {}\".format(uvi.descriptions[uvi.mode])) \n",
    "    print(\"Current exposure time: {} hours\\n\".format(uvi_exp.exptime[1]['value'][0])) \n",
    "    \n",
    "    lumos_template_codes = ['flam', 'qso', 's99', 'o5v', 'g2v', 'g191b2b', 'gd71', 'gd153', 'ctts', \n",
    "                        'mdwarf', 'orion', 'nodust', 'ebv6', 'hi1hei1', 'hi0hei1']\n",
    "    available_lumos_templates = [SpectralLibrary[tc] for tc in lumos_template_codes]\n",
    "\n",
    "    uvi_exp._snr_goal= snr_goal * (u.ct)**0.5 / (u.pix)**0.5\n",
    "\n",
    "    snr = uvi_exp.recover('exptime')\n",
    "    uvi_exp.unknown = 'exptime' #< --- this triggers the _update_exptime function in the SpectrographicExposure exposure object \n",
    "\n",
    "    #uvi_exp.enable()\n",
    "    uvi_sed, uvi_exptime = uvi_exp.recover('sed', 'exptime')\n",
    "\n",
    "    wave, exptime =  uvi.wave[1]['value'], uvi_exp.exptime[1]['value']\n",
    "\n",
    "    return wave, exptime, uvi \n",
    "\n"
   ]
  },
  {
   "cell_type": "code",
   "execution_count": null,
   "id": "5b26285b",
   "metadata": {},
   "outputs": [],
   "source": [
    "#                                       tel.    mode. template fuvmag  snrgoal \n",
    "wave120, exp120, uvi = uvspec_exptime('EAC1', 'G120M', 'flat', 19,      10.) \n",
    "wave150, exp150, uvi = uvspec_exptime('EAC1', 'G150M', 'flat', 19,      10.) \n",
    "wave180, exp180, uvi = uvspec_exptime('EAC1', 'G180M', 'flat', 19,      10.) \n",
    "wave300, exp300, uvi = uvspec_exptime('EAC1', 'G300M', 'flat', 19,      10.) "
   ]
  },
  {
   "cell_type": "markdown",
   "id": "e0030e78",
   "metadata": {},
   "source": [
    "#### NOTE: the uvspec_exptime function returns the time it would take to reach the snr_goal value at each pixel.  These SNR results cannot be obtained all at the same time! The system response varies with wavelength, but all wavelengths are observed at once for any given grating choice. So, use this to determine how long it would take to achive your SNR goal at your favorite wavelength, and disregard the other wavelengths in that trace.\n"
   ]
  },
  {
   "cell_type": "code",
   "execution_count": null,
   "id": "eac21b93",
   "metadata": {},
   "outputs": [],
   "source": [
    "plt.plot(wave120, exp120, label='G120M')\n",
    "plt.plot(wave150, exp150, label='G150M') \n",
    "plt.plot(wave180, exp180, label='G180M') \n",
    "plt.plot(wave300, exp300, label='G300M') \n",
    "\n",
    "plt.legend() \n",
    "plt.ylim(0, 10000)\n",
    "plt.xlabel('Wavelength [Angstrom]') \n",
    "_ = plt.ylabel('SNR per pixel') "
   ]
  },
  {
   "cell_type": "code",
   "execution_count": null,
   "id": "55fabe5b",
   "metadata": {},
   "outputs": [],
   "source": []
  },
  {
   "cell_type": "code",
   "execution_count": null,
   "id": "897ffecf",
   "metadata": {},
   "outputs": [],
   "source": []
  },
  {
   "cell_type": "code",
   "execution_count": null,
   "id": "f36b2e03",
   "metadata": {},
   "outputs": [],
   "source": []
  },
  {
   "cell_type": "code",
   "execution_count": null,
   "id": "4502dd25",
   "metadata": {},
   "outputs": [],
   "source": []
  }
 ],
 "metadata": {
  "kernelspec": {
   "display_name": "Python 3 (ipykernel)",
   "language": "python",
   "name": "python3"
  },
  "language_info": {
   "codemirror_mode": {
    "name": "ipython",
    "version": 3
   },
   "file_extension": ".py",
   "mimetype": "text/x-python",
   "name": "python",
   "nbconvert_exporter": "python",
   "pygments_lexer": "ipython3",
   "version": "3.9.15"
  }
 },
 "nbformat": 4,
 "nbformat_minor": 5
}
