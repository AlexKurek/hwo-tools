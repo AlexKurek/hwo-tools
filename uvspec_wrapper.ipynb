{
 "cells": [
  {
   "cell_type": "markdown",
   "id": "de56048d-ae24-4da4-8eab-0f1b245f05ad",
   "metadata": {},
   "source": [
    "## Illustration of simple wrappers for uvspec_etc "
   ]
  },
  {
   "cell_type": "markdown",
   "id": "480cbfc3-0122-4b28-8515-3918f2b80f80",
   "metadata": {},
   "source": [
    "First, import the wrapper function for obtaining UVI SNR from basic inputs "
   ]
  },
  {
   "cell_type": "code",
   "execution_count": null,
   "id": "cd5859f8",
   "metadata": {},
   "outputs": [],
   "source": [
    "from syotools.wrappers.uvspec import uvspec_snr\n",
    "import matplotlib.pyplot as plt "
   ]
  },
  {
   "cell_type": "code",
   "execution_count": null,
   "id": "3432b0e8",
   "metadata": {},
   "outputs": [],
   "source": [
    "wave120, snr120, uvi = uvspec_snr('EAC1', 'G120M', 'flat', 19, 2.) \n",
    "wave150, snr150, uvi = uvspec_snr('EAC1', 'G150M', 'flat', 19, 2.) \n",
    "wave180, snr180, uvi = uvspec_snr('EAC1', 'G180M', 'flat', 19, 2.) "
   ]
  },
  {
   "cell_type": "code",
   "execution_count": null,
   "id": "89b69e34",
   "metadata": {},
   "outputs": [],
   "source": [
    "plt.plot(wave120, snr120, label='G120M')\n",
    "plt.plot(wave150, snr150, label='G150M') \n",
    "plt.plot(wave180, snr180, label='G180M') \n",
    "plt.legend() \n",
    "plt.xlabel('Wavelength [Angstrom]') \n",
    "plt.ylabel('SNR per resolution element') "
   ]
  },
  {
   "cell_type": "code",
   "execution_count": null,
   "id": "c0145922",
   "metadata": {},
   "outputs": [],
   "source": [
    "uvi.modes"
   ]
  },
  {
   "cell_type": "code",
   "execution_count": null,
   "id": "470d2875-3ec6-4064-8ff6-c5c69c8dd188",
   "metadata": {},
   "outputs": [],
   "source": []
  }
 ],
 "metadata": {
  "kernelspec": {
   "display_name": "Python 3 (ipykernel)",
   "language": "python",
   "name": "python3"
  },
  "language_info": {
   "codemirror_mode": {
    "name": "ipython",
    "version": 3
   },
   "file_extension": ".py",
   "mimetype": "text/x-python",
   "name": "python",
   "nbconvert_exporter": "python",
   "pygments_lexer": "ipython3",
   "version": "3.12.3"
  }
 },
 "nbformat": 4,
 "nbformat_minor": 5
}
