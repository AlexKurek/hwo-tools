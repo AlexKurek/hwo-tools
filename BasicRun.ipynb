{
 "cells": [
  {
   "cell_type": "markdown",
   "id": "fc5a3859",
   "metadata": {},
   "source": [
    "## Basic Operations of the SYOTools version of the HWO ETCs"
   ]
  },
  {
   "cell_type": "markdown",
   "id": "ca26c92c",
   "metadata": {},
   "source": [
    "These operations are implemented in a simple notebook, but all this can be done in an interactive session or script. "
   ]
  },
  {
   "cell_type": "code",
   "execution_count": null,
   "id": "cb8c3f01",
   "metadata": {},
   "outputs": [],
   "source": [
    "from syotools.models import Camera, Telescope, Spectrograph, PhotometricExposure, SpectrographicExposure\n",
    "from syotools.utils.jsonunit import str_jsunit"
   ]
  },
  {
   "cell_type": "code",
   "execution_count": null,
   "id": "0318c35f",
   "metadata": {},
   "outputs": [],
   "source": [
    "e, c, t = PhotometricExposure(), Camera(), Telescope()\n",
    "t.set_from_json('EAC2')"
   ]
  },
  {
   "cell_type": "code",
   "execution_count": null,
   "id": "11941f3f",
   "metadata": {},
   "outputs": [],
   "source": [
    "t.add_camera(c)"
   ]
  },
  {
   "cell_type": "code",
   "execution_count": null,
   "id": "3ed98e8c",
   "metadata": {},
   "outputs": [],
   "source": [
    "c.add_exposure(e)"
   ]
  },
  {
   "cell_type": "code",
   "execution_count": null,
   "id": "9ff0b73f",
   "metadata": {},
   "outputs": [],
   "source": [
    "for attr in t._tracked_attributes:\n",
    "    print('{}: {}'.format(attr, str_jsunit(getattr(t,attr))))"
   ]
  },
  {
   "cell_type": "code",
   "execution_count": null,
   "id": "f6aa850b",
   "metadata": {},
   "outputs": [],
   "source": [
    "for attr in c._tracked_attributes:\n",
    "    print('{}: {}'.format(attr, str_jsunit(getattr(c,attr))))"
   ]
  },
  {
   "cell_type": "code",
   "execution_count": null,
   "id": "420aeb61",
   "metadata": {},
   "outputs": [],
   "source": [
    "for attr in e._tracked_attributes:\n",
    "    print('{}: {}'.format(attr, str_jsunit(getattr(e, attr))))"
   ]
  },
  {
   "cell_type": "code",
   "execution_count": null,
   "id": "66ab14c2",
   "metadata": {},
   "outputs": [],
   "source": [
    "e.snr"
   ]
  },
  {
   "cell_type": "code",
   "execution_count": null,
   "id": "f0089e9b",
   "metadata": {},
   "outputs": [],
   "source": []
  },
  {
   "cell_type": "code",
   "execution_count": null,
   "id": "2c443c14",
   "metadata": {},
   "outputs": [],
   "source": []
  },
  {
   "cell_type": "code",
   "execution_count": null,
   "id": "20017c6f",
   "metadata": {},
   "outputs": [],
   "source": []
  }
 ],
 "metadata": {
  "kernelspec": {
   "display_name": "Python 3 (ipykernel)",
   "language": "python",
   "name": "python3"
  },
  "language_info": {
   "codemirror_mode": {
    "name": "ipython",
    "version": 3
   },
   "file_extension": ".py",
   "mimetype": "text/x-python",
   "name": "python",
   "nbconvert_exporter": "python",
   "pygments_lexer": "ipython3",
   "version": "3.9.15"
  }
 },
 "nbformat": 4,
 "nbformat_minor": 5
}
